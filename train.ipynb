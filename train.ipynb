{
 "cells": [
  {
   "cell_type": "code",
   "execution_count": 2,
   "metadata": {},
   "outputs": [],
   "source": [
    "# from __future__ import division\n",
    "from __future__ import print_function\n",
    "\n",
    "import time\n",
    "import argparse\n",
    "import numpy as np\n",
    "\n",
    "import torch\n",
    "import torch.nn.functional as F\n",
    "import torch.optim as optim\n",
    "\n",
    "#from pygcn.utils import load_data, accuracy\n",
    "from pygcn.models import GCN\n",
    "import pandas as pd\n",
    "import scipy.sparse as sp"
   ]
  },
  {
   "cell_type": "code",
   "execution_count": 3,
   "metadata": {},
   "outputs": [],
   "source": [
    "def encode_onehot(labels):\n",
    "    classes = set(labels)\n",
    "    classes_dict = {c: np.identity(len(classes))[i, :] for i, c in\n",
    "                    enumerate(classes)}\n",
    "    labels_onehot = np.array(list(map(classes_dict.get, labels)),\n",
    "                             dtype=np.int32)\n",
    "    return labels_onehot\n",
    "\n",
    "def normalize(mx):\n",
    "    \"\"\"Row-normalize sparse matrix\"\"\"\n",
    "    rowsum = np.array(mx.sum(1))\n",
    "    r_inv = np.power(rowsum, -1).flatten()\n",
    "    r_inv[np.isinf(r_inv)] = 0.\n",
    "    r_mat_inv = sp.diags(r_inv)\n",
    "    mx = r_mat_inv.dot(mx)\n",
    "    return mx\n",
    "\n",
    "\n",
    "def accuracy(output, labels):\n",
    "    preds = output.max(1)[1].type_as(labels)\n",
    "    correct = preds.eq(labels).double()\n",
    "    correct = correct.sum()\n",
    "    return correct / len(labels)\n",
    "\n",
    "\n",
    "def sparse_mx_to_torch_sparse_tensor(sparse_mx):\n",
    "    \"\"\"Convert a scipy sparse matrix to a torch sparse tensor.\"\"\"\n",
    "    sparse_mx = sparse_mx.tocoo().astype(np.float32)\n",
    "    indices = torch.from_numpy(\n",
    "        np.vstack((sparse_mx.row, sparse_mx.col)).astype(np.int64))\n",
    "    values = torch.from_numpy(sparse_mx.data)\n",
    "    shape = torch.Size(sparse_mx.shape)\n",
    "    return torch.sparse.FloatTensor(indices, values, shape)"
   ]
  },
  {
   "cell_type": "code",
   "execution_count": 91,
   "metadata": {},
   "outputs": [],
   "source": [
    "# def encode_edges(edges_data):\n",
    "#     new_series = edges_data[0].append(edges_data[1])\n",
    "#     labels, levels = pd.factorize(new_series)\n",
    "\n",
    "#     edgeId = {}\n",
    "\n",
    "#     for i in range(len(levels)):\n",
    "#         key = levels[i]\n",
    "#         edgeId[key] = i\n",
    "\n",
    "#     encoded_edges = []\n",
    "#     for row in edges_data.itertuples(index=True, name='Pandas'):\n",
    "#         encoded_edges.append([edgeId[row[1]], edgeId[row[2]]])\n",
    "#     return np.asarray(encoded_edges)"
   ]
  },
  {
   "cell_type": "code",
   "execution_count": 153,
   "metadata": {},
   "outputs": [],
   "source": [
    "# def remove_empty_edges(mapped_edges):\n",
    "#     new_list = []\n",
    "#     for edge in mapped_edges:\n",
    "#         print(edge)\n",
    "#         print(mapped_edges[edge])\n",
    "#         if(edge[0] != None and edge[1] != None):\n",
    "#             new_list.append(edge)\n",
    "#     return edge"
   ]
  },
  {
   "cell_type": "code",
   "execution_count": 17,
   "metadata": {},
   "outputs": [
    {
     "data": {
      "text/plain": [
       "[0, 1, 2, 3, 4, 5]"
      ]
     },
     "execution_count": 17,
     "metadata": {},
     "output_type": "execute_result"
    }
   ],
   "source": [
    "list(range(6))"
   ]
  },
  {
   "cell_type": "code",
   "execution_count": 18,
   "metadata": {},
   "outputs": [],
   "source": [
    "#https://github.com/tkipf/pygcn/issues/39\n",
    "def load_data(content=\"embeddings.h5\", edges=\"relations.txt\"):\n",
    "    print('Loading {} dataset...'.format(content))\n",
    "\n",
    "    #idx_features_labels = np.genfromtxt(\"{}{}.content\".format(path, dataset), dtype=np.dtype(str))\n",
    "    idx_features_labels = pd.read_hdf(content, 'df')\n",
    "    \n",
    "    #reindex to make sure columns are in correct order\n",
    "    cols = list(idx_features_labels)\n",
    "    \n",
    "    # move the article_name column to head of list using index, pop and insert\n",
    "    cols.insert(0, cols.pop(cols.index('article_name')))\n",
    "    idx_features_labels = idx_features_labels.ix[:, cols]\n",
    "    idx_features_labels = idx_features_labels.values\n",
    "    \n",
    "    #print(idx_features_labels)\n",
    "    \n",
    "    features = sp.csr_matrix(idx_features_labels[:, 1:], dtype=np.float32)\n",
    "    \n",
    "    #TODO INSERT OUR OWN LABELS\n",
    "    #labels = encode_onehot(idx_features_labels[:, -1]) #invalid\n",
    "    labels = np.zeros(len(idx_features_labels)) - 1\n",
    "    print(labels)\n",
    "\n",
    "    # build graph\n",
    "    idx = np.array(idx_features_labels[:, 0], dtype=np.str)\n",
    "    idx_map = {j: i for i, j in enumerate(idx)}\n",
    "    edges_unordered = np.genfromtxt(\"{}.txt\".format(edges), dtype=np.str)\n",
    "\n",
    "    #print(list(map(idx_map.get, edges_unordered.flatten())))\n",
    "    \n",
    "    edges_unfiltered = np.array(list(map(idx_map.get, edges_unordered.flatten())), dtype=np.str).reshape(edges_unordered.shape)\n",
    "    \n",
    "    print(\"=====\")\n",
    "    #print(type(edges_unfiltered))\n",
    "    \n",
    "    #filter out edges that contain invalid categories 'None'\n",
    "    edges = []\n",
    "    for edge in edges_unfiltered:\n",
    "        if(not(edge[0] == 'None') and not(edge[1] == 'None')):\n",
    "            edges.append(edge)\n",
    "            \n",
    "    edges = np.array(edges)\n",
    "    print(edges)\n",
    "    \n",
    "    adj = sp.coo_matrix((np.ones(edges.shape[0]), (edges[:, 0], edges[:, 1])),\n",
    "                        shape=(labels.shape[0], labels.shape[0]),\n",
    "                        dtype=np.int32)\n",
    "\n",
    "    # build symmetric adjacency matrix\n",
    "    adj = adj + adj.T.multiply(adj.T > adj) - adj.multiply(adj.T > adj)\n",
    "\n",
    "    features = normalize(features)\n",
    "    adj = normalize(adj + sp.eye(adj.shape[0]))\n",
    "\n",
    "    idx_train = [4] #node #4 is \"Deep Learning\"\n",
    "    idx_val = range(200, 500)\n",
    "    idx_test = range(500, 1500)\n",
    "\n",
    "    features = torch.FloatTensor(np.array(features.todense()))\n",
    "    #labels = torch.LongTensor(np.where(labels)[1])\n",
    "    adj = sparse_mx_to_torch_sparse_tensor(adj)\n",
    "\n",
    "    idx_train = torch.LongTensor(idx_train)\n",
    "    idx_val = torch.LongTensor(idx_val)\n",
    "    idx_test = torch.LongTensor(idx_test)\n",
    "\n",
    "    return adj, features, idx_train"
   ]
  },
  {
   "cell_type": "code",
   "execution_count": 20,
   "metadata": {},
   "outputs": [
    {
     "name": "stdout",
     "output_type": "stream",
     "text": [
      "Loading embeddings.h5 dataset...\n",
      "[-1. -1. -1. -1. -1. -1. -1. -1. -1. -1. -1. -1. -1. -1. -1. -1. -1. -1.\n",
      " -1. -1. -1. -1. -1. -1. -1. -1. -1. -1. -1. -1. -1. -1. -1. -1. -1. -1.\n",
      " -1. -1. -1. -1. -1. -1. -1. -1. -1. -1. -1. -1. -1. -1. -1. -1. -1. -1.\n",
      " -1. -1. -1. -1. -1. -1. -1. -1. -1.]\n",
      "=====\n",
      "[['57' '0']\n",
      " ['4' '0']\n",
      " ['6' '0']\n",
      " ['7' '0']\n",
      " ['12' '0']\n",
      " ['51' '0']\n",
      " ['14' '0']\n",
      " ['17' '0']\n",
      " ['20' '0']\n",
      " ['21' '0']\n",
      " ['22' '0']\n",
      " ['24' '0']\n",
      " ['28' '0']\n",
      " ['29' '0']\n",
      " ['31' '0']\n",
      " ['34' '0']\n",
      " ['41' '0']\n",
      " ['42' '0']\n",
      " ['44' '0']\n",
      " ['46' '0']\n",
      " ['47' '0']\n",
      " ['48' '0']\n",
      " ['49' '0']\n",
      " ['50' '0']\n",
      " ['52' '0']\n",
      " ['53' '0']\n",
      " ['54' '0']\n",
      " ['55' '0']\n",
      " ['61' '0']\n",
      " ['62' '0']\n",
      " ['58' '57']\n",
      " ['59' '57']\n",
      " ['5' '4']\n",
      " ['8' '7']\n",
      " ['28' '8']\n",
      " ['10' '8']\n",
      " ['33' '8']\n",
      " ['15' '14']\n",
      " ['45' '14']\n",
      " ['18' '17']\n",
      " ['19' '17']\n",
      " ['23' '22']\n",
      " ['36' '24']\n",
      " ['37' '36']\n",
      " ['39' '36']\n",
      " ['30' '29']\n",
      " ['32' '31']\n",
      " ['33' '31']\n",
      " ['41' '34']\n",
      " ['36' '34']\n",
      " ['39' '34']\n",
      " ['40' '34']\n",
      " ['37' '36']\n",
      " ['39' '36']\n",
      " ['43' '42']\n",
      " ['45' '44']\n",
      " ['51' '50']\n",
      " ['62' '55']\n",
      " ['57' '55']\n",
      " ['60' '55']\n",
      " ['58' '57']\n",
      " ['59' '57']]\n"
     ]
    },
    {
     "name": "stderr",
     "output_type": "stream",
     "text": [
      "/home/kshen3778/anaconda3/lib/python3.7/site-packages/ipykernel_launcher.py:13: DeprecationWarning: \n",
      ".ix is deprecated. Please use\n",
      ".loc for label based indexing or\n",
      ".iloc for positional indexing\n",
      "\n",
      "See the documentation here:\n",
      "http://pandas.pydata.org/pandas-docs/stable/indexing.html#ix-indexer-is-deprecated\n",
      "  del sys.path[0]\n"
     ]
    }
   ],
   "source": [
    "adj, features, idx_train = load_data(\"embeddings.h5\", \"relations\")"
   ]
  },
  {
   "cell_type": "code",
   "execution_count": 23,
   "metadata": {},
   "outputs": [
    {
     "data": {
      "text/plain": [
       "tensor([4])"
      ]
     },
     "execution_count": 23,
     "metadata": {},
     "output_type": "execute_result"
    }
   ],
   "source": [
    "idx_train"
   ]
  },
  {
   "cell_type": "code",
   "execution_count": null,
   "metadata": {},
   "outputs": [],
   "source": []
  }
 ],
 "metadata": {
  "kernelspec": {
   "display_name": "Python 3",
   "language": "python",
   "name": "python3"
  },
  "language_info": {
   "codemirror_mode": {
    "name": "ipython",
    "version": 3
   },
   "file_extension": ".py",
   "mimetype": "text/x-python",
   "name": "python",
   "nbconvert_exporter": "python",
   "pygments_lexer": "ipython3",
   "version": "3.7.3"
  }
 },
 "nbformat": 4,
 "nbformat_minor": 2
}
