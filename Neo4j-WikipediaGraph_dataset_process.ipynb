{
 "cells": [
  {
   "cell_type": "code",
   "execution_count": 1,
   "metadata": {},
   "outputs": [],
   "source": [
    "from py2neo import Graph\n",
    "from bs4 import BeautifulSoup\n",
    "import requests"
   ]
  },
  {
   "cell_type": "code",
   "execution_count": 2,
   "metadata": {},
   "outputs": [],
   "source": [
    "graph = Graph(password=\"kshen3778\")"
   ]
  },
  {
   "cell_type": "code",
   "execution_count": 3,
   "metadata": {},
   "outputs": [
    {
     "data": {
      "text/plain": [
       "[{'n': (_5214855:Category:Page {id: 690070, isNew: false, isRedirect: false, title: 'Futurama'})},\n",
       " {'n': (_5214856:Category:Page {id: 690451, isNew: false, isRedirect: false, title: 'World_War_II'})},\n",
       " {'n': (_5214857:Category:Page {id: 690571, isNew: false, isRedirect: false, title: 'Programming_languages'})},\n",
       " {'n': (_5214858:Category:Page {id: 690578, isNew: false, isRedirect: false, title: 'Professional_wrestling'})},\n",
       " {'n': (_5214859:Category:Page {id: 690637, isNew: false, isRedirect: false, title: 'Algebra'})},\n",
       " {'n': (_5214860:Category:Page {id: 690649, isNew: false, isRedirect: false, title: 'Anime'})},\n",
       " {'n': (_5214861:Category:Page {id: 690672, isNew: false, isRedirect: false, title: 'Abstract_algebra'})},\n",
       " {'n': (_5214862:Category:Page {id: 690747, isNew: false, isRedirect: false, title: 'Mathematics'})},\n",
       " {'n': (_5214863:Category:Page {id: 690777, isNew: false, isRedirect: false, title: 'Linear_algebra'})},\n",
       " {'n': (_5214864:Category:Page {id: 690803, isNew: false, isRedirect: false, title: 'Calculus'})},\n",
       " {'n': (_5214865:Category:Page {id: 690889, isNew: false, isRedirect: false, title: 'Monarchs'})},\n",
       " {'n': (_5214866:Category:Page {id: 690932, isNew: false, isRedirect: false, title: 'British_monarchs'})},\n",
       " {'n': (_5214867:Category:Page {id: 690990, isNew: false, isRedirect: false, title: 'Star_Trek'})},\n",
       " {'n': (_5214868:Category:Page {id: 691008, isNew: false, isRedirect: false, title: 'People'})},\n",
       " {'n': (_5214869:Category:Page {id: 691014, isNew: false, isRedirect: false, title: 'Popes'})},\n",
       " {'n': (_5214870:Category:Page {id: 691015, isNew: false, isRedirect: false, title: 'Desserts'})},\n",
       " {'n': (_5214871:Category:Page {id: 691023, isNew: false, isRedirect: false, title: 'Fruit'})},\n",
       " {'n': (_5214872:Category:Page {id: 691070, isNew: false, isRedirect: false, title: 'Lists'})},\n",
       " {'n': (_5214873:Category:Page {id: 691117, isNew: false, isRedirect: false, title: 'Computer_science'})},\n",
       " {'n': (_5214874:Category:Page {id: 691123, isNew: false, isRedirect: false, title: 'The_Simpsons'})},\n",
       " {'n': (_5214875:Category:Page {id: 691136, isNew: false, isRedirect: false, title: 'Algorithms'})},\n",
       " {'n': (_5214876:Category:Page {id: 691150, isNew: false, isRedirect: false, title: 'Data_structures'})},\n",
       " {'n': (_5214877:Category:Page {id: 691158, isNew: false, isRedirect: false, title: 'Monty_Python'})},\n",
       " {'n': (_5214878:Category:Page {id: 691160, isNew: false, isRedirect: false, title: 'Middle-earth_places'})},\n",
       " {'n': (_5214879:Category:Page {id: 691175, isNew: false, isRedirect: false, title: 'Middle-earth_characters'})}]"
      ]
     },
     "execution_count": 3,
     "metadata": {},
     "output_type": "execute_result"
    }
   ],
   "source": [
    "graph.run(\"MATCH (n:Category) RETURN n LIMIT 25\").data()"
   ]
  },
  {
   "cell_type": "code",
   "execution_count": 20,
   "metadata": {},
   "outputs": [
    {
     "data": {
      "text/plain": [
       "[{'n': (_5214918:Category:Page {id: 691614, isNew: false, isRedirect: false, title: 'Cold_War'})}]"
      ]
     },
     "execution_count": 20,
     "metadata": {},
     "output_type": "execute_result"
    }
   ],
   "source": [
    "graph.run(\"MATCH (n:Category { title: 'Cold_War' }) RETURN n\").data()"
   ]
  },
  {
   "cell_type": "code",
   "execution_count": 55,
   "metadata": {},
   "outputs": [],
   "source": [
    "#get all sub cat\n",
    "cats = graph.run(\"MATCH (n:Category{title:'Constraint_logic_programming'})-[:BELONGS_TO*..1]-(p:Category) RETURN p LIMIT 100\").data()"
   ]
  },
  {
   "cell_type": "code",
   "execution_count": 56,
   "metadata": {},
   "outputs": [
    {
     "data": {
      "text/plain": [
       "2"
      ]
     },
     "execution_count": 56,
     "metadata": {},
     "output_type": "execute_result"
    }
   ],
   "source": [
    "len(cats)"
   ]
  },
  {
   "cell_type": "code",
   "execution_count": 57,
   "metadata": {},
   "outputs": [
    {
     "data": {
      "text/plain": [
       "[{'p': (_6124108:Category:Page {id: 22968506, isNew: false, isRedirect: false, title: 'Constraint_programming'})},\n",
       " {'p': (_5594005:Category:Page {id: 1188828, isNew: false, isRedirect: false, title: 'Logic_programming'})}]"
      ]
     },
     "execution_count": 57,
     "metadata": {},
     "output_type": "execute_result"
    }
   ],
   "source": [
    "cats"
   ]
  },
  {
   "cell_type": "code",
   "execution_count": 70,
   "metadata": {},
   "outputs": [],
   "source": []
  },
  {
   "cell_type": "code",
   "execution_count": 27,
   "metadata": {},
   "outputs": [
    {
     "data": {
      "text/plain": [
       "['Areas_of_computer_science',\n",
       " 'Cognitive_science',\n",
       " 'Computational_neuroscience',\n",
       " 'Cybernetics',\n",
       " 'Emerging_technologies',\n",
       " 'Formal_sciences',\n",
       " 'Futurology',\n",
       " 'Intelligence_by_type',\n",
       " 'Personhood',\n",
       " 'Technology_in_society',\n",
       " 'Unsolved_problems_in_computer_science']"
      ]
     },
     "execution_count": 27,
     "metadata": {},
     "output_type": "execute_result"
    }
   ],
   "source": [
    "getBadCategories(\"Artificial_intelligence\")"
   ]
  },
  {
   "cell_type": "code",
   "execution_count": 63,
   "metadata": {},
   "outputs": [],
   "source": [
    "#check if a specific sub category references the select category an two way relationship (which we don't want)\n",
    "subs = graph.run(\"MATCH (n:Category{title:'Emerging_technologies'})-[:BELONGS_TO*..1]-(p:Category) RETURN p LIMIT 100\").data()"
   ]
  },
  {
   "cell_type": "code",
   "execution_count": 64,
   "metadata": {},
   "outputs": [
    {
     "data": {
      "text/plain": [
       "[]"
      ]
     },
     "execution_count": 64,
     "metadata": {},
     "output_type": "execute_result"
    }
   ],
   "source": [
    "subs"
   ]
  },
  {
   "cell_type": "code",
   "execution_count": 20,
   "metadata": {},
   "outputs": [],
   "source": [
    "#verify if category actually exists on online Wikipedia\n",
    "def categoryExist(name):\n",
    "    res = requests.get(\"https://en.wikipedia.org/wiki/Category:\" + name)\n",
    "    soup = BeautifulSoup(res.content, \"html.parser\")\n",
    "    div = soup.find(\"div\", {\"id\": \"mw-normal-catlinks\"})\n",
    "    if(div):\n",
    "        return True\n",
    "    else:\n",
    "        return False\n",
    "\n",
    "#Use beautifulsoup to scrape the bottom categories of a parent category (these we don't want)\n",
    "def getBadCategories(parent):\n",
    "    res = requests.get(\"https://en.wikipedia.org/wiki/Category:\" + parent)\n",
    "    soup = BeautifulSoup(res.content, \"html.parser\")\n",
    "    div = soup.find(\"div\", {\"id\": \"mw-normal-catlinks\"})\n",
    "    if(div):\n",
    "        to_return = []\n",
    "        for item in div.findAll(\"li\"):\n",
    "            to_return.append(\"_\".join(item.get_text().split(\" \")))\n",
    "        return to_return\n",
    "    else:\n",
    "        #parent does not exist\n",
    "        return []\n",
    "\n",
    "#get all immediate Wikipedia subcategories of main minus two way connections\n",
    "def getAllSubCat(parent):\n",
    "    all_cats = graph.run(\"MATCH (n:Category{title:'\" + parent + \"'})-[:BELONGS_TO*..1]-(p:Category) RETURN p LIMIT 100\").data()\n",
    "    bad_cats = getBadCategories(parent)\n",
    "    filtered = []\n",
    "    for category in all_cats:\n",
    "        cat_title = category['p'][\"title\"]\n",
    "        if (not (cat_title in bad_cats)):\n",
    "            filtered.append(cat_title)\n",
    "    #search all these categories to see if any of them match the other way (if so, we remove)\n",
    "#     filtered = []\n",
    "#     for category in all_cats:\n",
    "#         cat_title = category['p'][\"title\"]\n",
    "#         subs = graph.run(\"MATCH (n:Category{title:'\" + cat_title + \"'})-[:BELONGS_TO*..1]-(p:Category) RETURN p LIMIT 100\").data()\n",
    "#         found = False\n",
    "#         for category_2 in subs:\n",
    "#             sub_title = category_2['p'][\"title\"]\n",
    "#             if(sub_title == parent):\n",
    "#                 found = True\n",
    "#         if (not found):\n",
    "#             filtered.append(cat_title)\n",
    "    \n",
    "    return filtered"
   ]
  },
  {
   "cell_type": "code",
   "execution_count": 77,
   "metadata": {},
   "outputs": [
    {
     "data": {
      "text/plain": [
       "['Artificial_neural_networks',\n",
       " 'Applied_machine_learning',\n",
       " 'Unsupervised_learning',\n",
       " 'Structured_prediction',\n",
       " 'Loss_functions',\n",
       " 'Support_vector_machines',\n",
       " 'Latent_variable_models',\n",
       " 'Cluster_analysis',\n",
       " 'Signal_processing_conferences',\n",
       " 'Artificial_intelligence_conferences',\n",
       " 'Data_mining_and_machine_learning_software',\n",
       " 'Machine_learning_algorithms',\n",
       " 'Bayesian_networks',\n",
       " 'Machine_learning_portal',\n",
       " 'Statistical_natural_language_processing',\n",
       " 'Markov_models',\n",
       " 'Evolutionary_algorithms',\n",
       " 'Genetic_programming',\n",
       " 'Datasets_in_machine_learning',\n",
       " 'Dimension_reduction',\n",
       " 'Machine_learning_researchers',\n",
       " 'Supervised_learning',\n",
       " 'Semisupervised_learning',\n",
       " 'Computational_learning_theory',\n",
       " 'Kernel_methods_for_machine_learning',\n",
       " 'Learning_in_computer_vision',\n",
       " 'Inductive_logic_programming',\n",
       " 'Log-linear_models',\n",
       " 'Classification_algorithms',\n",
       " 'Machine_learning_task',\n",
       " 'Ensemble_learning']"
      ]
     },
     "execution_count": 77,
     "metadata": {},
     "output_type": "execute_result"
    }
   ],
   "source": [
    "getAllSubCat(\"Machine_learning\")\n",
    "#getBadCategories(\"Constraint_logic_programming\")"
   ]
  },
  {
   "cell_type": "code",
   "execution_count": 79,
   "metadata": {},
   "outputs": [
    {
     "ename": "KeyboardInterrupt",
     "evalue": "",
     "output_type": "error",
     "traceback": [
      "\u001b[0;31m---------------------------------------------------------------------------\u001b[0m",
      "\u001b[0;31mKeyboardInterrupt\u001b[0m                         Traceback (most recent call last)",
      "\u001b[0;32m<ipython-input-79-8a5fcb5cee48>\u001b[0m in \u001b[0;36m<module>\u001b[0;34m\u001b[0m\n\u001b[0;32m----> 1\u001b[0;31m \u001b[0mgraph\u001b[0m\u001b[0;34m.\u001b[0m\u001b[0mrun\u001b[0m\u001b[0;34m(\u001b[0m\u001b[0;34m\"MATCH path = (start:Category{title:'Machine_learning'})-[*]-(end:Category{title:'Court_titles'}) RETURN path LIMIT 3\"\u001b[0m\u001b[0;34m)\u001b[0m\u001b[0;34m.\u001b[0m\u001b[0mdata\u001b[0m\u001b[0;34m(\u001b[0m\u001b[0;34m)\u001b[0m\u001b[0;34m\u001b[0m\u001b[0;34m\u001b[0m\u001b[0m\n\u001b[0m",
      "\u001b[0;32m~/anaconda3/lib/python3.7/site-packages/py2neo/database.py\u001b[0m in \u001b[0;36mrun\u001b[0;34m(self, cypher, parameters, **kwparameters)\u001b[0m\n\u001b[1;32m    531\u001b[0m         \u001b[0;34m:\u001b[0m\u001b[0;32mreturn\u001b[0m\u001b[0;34m:\u001b[0m\u001b[0;34m\u001b[0m\u001b[0;34m\u001b[0m\u001b[0m\n\u001b[1;32m    532\u001b[0m         \"\"\"\n\u001b[0;32m--> 533\u001b[0;31m         \u001b[0;32mreturn\u001b[0m \u001b[0mself\u001b[0m\u001b[0;34m.\u001b[0m\u001b[0mbegin\u001b[0m\u001b[0;34m(\u001b[0m\u001b[0mautocommit\u001b[0m\u001b[0;34m=\u001b[0m\u001b[0;32mTrue\u001b[0m\u001b[0;34m)\u001b[0m\u001b[0;34m.\u001b[0m\u001b[0mrun\u001b[0m\u001b[0;34m(\u001b[0m\u001b[0mcypher\u001b[0m\u001b[0;34m,\u001b[0m \u001b[0mparameters\u001b[0m\u001b[0;34m,\u001b[0m \u001b[0;34m**\u001b[0m\u001b[0mkwparameters\u001b[0m\u001b[0;34m)\u001b[0m\u001b[0;34m\u001b[0m\u001b[0;34m\u001b[0m\u001b[0m\n\u001b[0m\u001b[1;32m    534\u001b[0m \u001b[0;34m\u001b[0m\u001b[0m\n\u001b[1;32m    535\u001b[0m     \u001b[0;32mdef\u001b[0m \u001b[0mseparate\u001b[0m\u001b[0;34m(\u001b[0m\u001b[0mself\u001b[0m\u001b[0;34m,\u001b[0m \u001b[0msubgraph\u001b[0m\u001b[0;34m)\u001b[0m\u001b[0;34m:\u001b[0m\u001b[0;34m\u001b[0m\u001b[0;34m\u001b[0m\u001b[0m\n",
      "\u001b[0;32m~/anaconda3/lib/python3.7/site-packages/py2neo/database.py\u001b[0m in \u001b[0;36mrun\u001b[0;34m(self, cypher, parameters, **kwparameters)\u001b[0m\n\u001b[1;32m    826\u001b[0m                                              \u001b[0mgraph\u001b[0m\u001b[0;34m=\u001b[0m\u001b[0mself\u001b[0m\u001b[0;34m.\u001b[0m\u001b[0mgraph\u001b[0m\u001b[0;34m,\u001b[0m\u001b[0;34m\u001b[0m\u001b[0;34m\u001b[0m\u001b[0m\n\u001b[1;32m    827\u001b[0m                                              \u001b[0mkeys\u001b[0m\u001b[0;34m=\u001b[0m\u001b[0;34m[\u001b[0m\u001b[0;34m]\u001b[0m\u001b[0;34m,\u001b[0m\u001b[0;34m\u001b[0m\u001b[0;34m\u001b[0m\u001b[0m\n\u001b[0;32m--> 828\u001b[0;31m                                              entities=entities))\n\u001b[0m\u001b[1;32m    829\u001b[0m         \u001b[0;32mexcept\u001b[0m \u001b[0mCypherError\u001b[0m \u001b[0;32mas\u001b[0m \u001b[0merror\u001b[0m\u001b[0;34m:\u001b[0m\u001b[0;34m\u001b[0m\u001b[0;34m\u001b[0m\u001b[0m\n\u001b[1;32m    830\u001b[0m             \u001b[0;32mraise\u001b[0m \u001b[0mGraphError\u001b[0m\u001b[0;34m.\u001b[0m\u001b[0mhydrate\u001b[0m\u001b[0;34m(\u001b[0m\u001b[0;34m{\u001b[0m\u001b[0;34m\"code\"\u001b[0m\u001b[0;34m:\u001b[0m \u001b[0merror\u001b[0m\u001b[0;34m.\u001b[0m\u001b[0mcode\u001b[0m\u001b[0;34m,\u001b[0m \u001b[0;34m\"message\"\u001b[0m\u001b[0;34m:\u001b[0m \u001b[0merror\u001b[0m\u001b[0;34m.\u001b[0m\u001b[0mmessage\u001b[0m\u001b[0;34m}\u001b[0m\u001b[0;34m)\u001b[0m\u001b[0;34m\u001b[0m\u001b[0;34m\u001b[0m\u001b[0m\n",
      "\u001b[0;32m~/anaconda3/lib/python3.7/site-packages/py2neo/internal/connectors.py\u001b[0m in \u001b[0;36mrun\u001b[0;34m(self, statement, parameters, tx, graph, keys, entities)\u001b[0m\n\u001b[1;32m    290\u001b[0m     \u001b[0;32mdef\u001b[0m \u001b[0mrun\u001b[0m\u001b[0;34m(\u001b[0m\u001b[0mself\u001b[0m\u001b[0;34m,\u001b[0m \u001b[0mstatement\u001b[0m\u001b[0;34m,\u001b[0m \u001b[0mparameters\u001b[0m\u001b[0;34m=\u001b[0m\u001b[0;32mNone\u001b[0m\u001b[0;34m,\u001b[0m \u001b[0mtx\u001b[0m\u001b[0;34m=\u001b[0m\u001b[0;32mNone\u001b[0m\u001b[0;34m,\u001b[0m \u001b[0mgraph\u001b[0m\u001b[0;34m=\u001b[0m\u001b[0;32mNone\u001b[0m\u001b[0;34m,\u001b[0m \u001b[0mkeys\u001b[0m\u001b[0;34m=\u001b[0m\u001b[0;32mNone\u001b[0m\u001b[0;34m,\u001b[0m \u001b[0mentities\u001b[0m\u001b[0;34m=\u001b[0m\u001b[0;32mNone\u001b[0m\u001b[0;34m)\u001b[0m\u001b[0;34m:\u001b[0m\u001b[0;34m\u001b[0m\u001b[0;34m\u001b[0m\u001b[0m\n\u001b[1;32m    291\u001b[0m         \u001b[0;32mif\u001b[0m \u001b[0mtx\u001b[0m \u001b[0;32mis\u001b[0m \u001b[0;32mNone\u001b[0m\u001b[0;34m:\u001b[0m\u001b[0;34m\u001b[0m\u001b[0;34m\u001b[0m\u001b[0m\n\u001b[0;32m--> 292\u001b[0;31m             \u001b[0;32mreturn\u001b[0m \u001b[0mself\u001b[0m\u001b[0;34m.\u001b[0m\u001b[0m_run_1\u001b[0m\u001b[0;34m(\u001b[0m\u001b[0mstatement\u001b[0m\u001b[0;34m,\u001b[0m \u001b[0mparameters\u001b[0m\u001b[0;34m,\u001b[0m \u001b[0mgraph\u001b[0m\u001b[0;34m,\u001b[0m \u001b[0mkeys\u001b[0m\u001b[0;34m,\u001b[0m \u001b[0mentities\u001b[0m\u001b[0;34m)\u001b[0m\u001b[0;34m\u001b[0m\u001b[0;34m\u001b[0m\u001b[0m\n\u001b[0m\u001b[1;32m    293\u001b[0m         \u001b[0;32melse\u001b[0m\u001b[0;34m:\u001b[0m\u001b[0;34m\u001b[0m\u001b[0;34m\u001b[0m\u001b[0m\n\u001b[1;32m    294\u001b[0m             \u001b[0;32mreturn\u001b[0m \u001b[0mself\u001b[0m\u001b[0;34m.\u001b[0m\u001b[0m_run_in_tx\u001b[0m\u001b[0;34m(\u001b[0m\u001b[0mstatement\u001b[0m\u001b[0;34m,\u001b[0m \u001b[0mparameters\u001b[0m\u001b[0;34m,\u001b[0m \u001b[0mtx\u001b[0m\u001b[0;34m,\u001b[0m \u001b[0mgraph\u001b[0m\u001b[0;34m,\u001b[0m \u001b[0mkeys\u001b[0m\u001b[0;34m,\u001b[0m \u001b[0mentities\u001b[0m\u001b[0;34m)\u001b[0m\u001b[0;34m\u001b[0m\u001b[0;34m\u001b[0m\u001b[0m\n",
      "\u001b[0;32m~/anaconda3/lib/python3.7/site-packages/py2neo/internal/connectors.py\u001b[0m in \u001b[0;36m_run_1\u001b[0;34m(self, statement, parameters, graph, keys, entities)\u001b[0m\n\u001b[1;32m    253\u001b[0m                     on_success=result.update_metadata, on_failure=self._fail, on_summary=result.done)\n\u001b[1;32m    254\u001b[0m         \u001b[0mcx\u001b[0m\u001b[0;34m.\u001b[0m\u001b[0msend\u001b[0m\u001b[0;34m(\u001b[0m\u001b[0;34m)\u001b[0m\u001b[0;34m\u001b[0m\u001b[0;34m\u001b[0m\u001b[0m\n\u001b[0;32m--> 255\u001b[0;31m         \u001b[0mcx\u001b[0m\u001b[0;34m.\u001b[0m\u001b[0mfetch\u001b[0m\u001b[0;34m(\u001b[0m\u001b[0;34m)\u001b[0m\u001b[0;34m\u001b[0m\u001b[0;34m\u001b[0m\u001b[0m\n\u001b[0m\u001b[1;32m    256\u001b[0m         \u001b[0;32mreturn\u001b[0m \u001b[0mresult\u001b[0m\u001b[0;34m\u001b[0m\u001b[0;34m\u001b[0m\u001b[0m\n\u001b[1;32m    257\u001b[0m \u001b[0;34m\u001b[0m\u001b[0m\n",
      "\u001b[0;32m~/anaconda3/lib/python3.7/site-packages/neobolt/direct.py\u001b[0m in \u001b[0;36mfetch\u001b[0;34m(self)\u001b[0m\n\u001b[1;32m    420\u001b[0m     \u001b[0;32mdef\u001b[0m \u001b[0mfetch\u001b[0m\u001b[0;34m(\u001b[0m\u001b[0mself\u001b[0m\u001b[0;34m)\u001b[0m\u001b[0;34m:\u001b[0m\u001b[0;34m\u001b[0m\u001b[0;34m\u001b[0m\u001b[0m\n\u001b[1;32m    421\u001b[0m         \u001b[0;32mtry\u001b[0m\u001b[0;34m:\u001b[0m\u001b[0;34m\u001b[0m\u001b[0;34m\u001b[0m\u001b[0m\n\u001b[0;32m--> 422\u001b[0;31m             \u001b[0;32mreturn\u001b[0m \u001b[0mself\u001b[0m\u001b[0;34m.\u001b[0m\u001b[0m_fetch\u001b[0m\u001b[0;34m(\u001b[0m\u001b[0;34m)\u001b[0m\u001b[0;34m\u001b[0m\u001b[0;34m\u001b[0m\u001b[0m\n\u001b[0m\u001b[1;32m    423\u001b[0m         \u001b[0;32mexcept\u001b[0m \u001b[0mself\u001b[0m\u001b[0;34m.\u001b[0m\u001b[0merror_handler\u001b[0m\u001b[0;34m.\u001b[0m\u001b[0mknown_errors\u001b[0m \u001b[0;32mas\u001b[0m \u001b[0merror\u001b[0m\u001b[0;34m:\u001b[0m\u001b[0;34m\u001b[0m\u001b[0;34m\u001b[0m\u001b[0m\n\u001b[1;32m    424\u001b[0m             \u001b[0mself\u001b[0m\u001b[0;34m.\u001b[0m\u001b[0merror_handler\u001b[0m\u001b[0;34m.\u001b[0m\u001b[0mhandle\u001b[0m\u001b[0;34m(\u001b[0m\u001b[0merror\u001b[0m\u001b[0;34m,\u001b[0m \u001b[0mself\u001b[0m\u001b[0;34m.\u001b[0m\u001b[0munresolved_address\u001b[0m\u001b[0;34m)\u001b[0m\u001b[0;34m\u001b[0m\u001b[0;34m\u001b[0m\u001b[0m\n",
      "\u001b[0;32m~/anaconda3/lib/python3.7/site-packages/neobolt/direct.py\u001b[0m in \u001b[0;36m_fetch\u001b[0;34m(self)\u001b[0m\n\u001b[1;32m    441\u001b[0m             \u001b[0;32mreturn\u001b[0m \u001b[0;36m0\u001b[0m\u001b[0;34m,\u001b[0m \u001b[0;36m0\u001b[0m\u001b[0;34m\u001b[0m\u001b[0;34m\u001b[0m\u001b[0m\n\u001b[1;32m    442\u001b[0m \u001b[0;34m\u001b[0m\u001b[0m\n\u001b[0;32m--> 443\u001b[0;31m         \u001b[0mself\u001b[0m\u001b[0;34m.\u001b[0m\u001b[0m_receive\u001b[0m\u001b[0;34m(\u001b[0m\u001b[0;34m)\u001b[0m\u001b[0;34m\u001b[0m\u001b[0;34m\u001b[0m\u001b[0m\n\u001b[0m\u001b[1;32m    444\u001b[0m \u001b[0;34m\u001b[0m\u001b[0m\n\u001b[1;32m    445\u001b[0m         \u001b[0mdetails\u001b[0m\u001b[0;34m,\u001b[0m \u001b[0msummary_signature\u001b[0m\u001b[0;34m,\u001b[0m \u001b[0msummary_metadata\u001b[0m \u001b[0;34m=\u001b[0m \u001b[0mself\u001b[0m\u001b[0;34m.\u001b[0m\u001b[0m_unpack\u001b[0m\u001b[0;34m(\u001b[0m\u001b[0;34m)\u001b[0m\u001b[0;34m\u001b[0m\u001b[0;34m\u001b[0m\u001b[0m\n",
      "\u001b[0;32m~/anaconda3/lib/python3.7/site-packages/neobolt/direct.py\u001b[0m in \u001b[0;36m_receive\u001b[0;34m(self)\u001b[0m\n\u001b[1;32m    491\u001b[0m             \u001b[0;32mraise\u001b[0m \u001b[0mself\u001b[0m\u001b[0;34m.\u001b[0m\u001b[0mError\u001b[0m\u001b[0;34m(\u001b[0m\u001b[0mmessage\u001b[0m\u001b[0;34m)\u001b[0m\u001b[0;34m\u001b[0m\u001b[0;34m\u001b[0m\u001b[0m\n\u001b[1;32m    492\u001b[0m         \u001b[0;32melif\u001b[0m \u001b[0mreceived\u001b[0m \u001b[0;34m==\u001b[0m \u001b[0;34m-\u001b[0m\u001b[0;36m1\u001b[0m\u001b[0;34m:\u001b[0m\u001b[0;34m\u001b[0m\u001b[0;34m\u001b[0m\u001b[0m\n\u001b[0;32m--> 493\u001b[0;31m             \u001b[0;32mraise\u001b[0m \u001b[0mKeyboardInterrupt\u001b[0m\u001b[0;34m(\u001b[0m\u001b[0;34m)\u001b[0m\u001b[0;34m\u001b[0m\u001b[0;34m\u001b[0m\u001b[0m\n\u001b[0m\u001b[1;32m    494\u001b[0m \u001b[0;34m\u001b[0m\u001b[0m\n\u001b[1;32m    495\u001b[0m     \u001b[0;32mdef\u001b[0m \u001b[0m_unpack\u001b[0m\u001b[0;34m(\u001b[0m\u001b[0mself\u001b[0m\u001b[0;34m)\u001b[0m\u001b[0;34m:\u001b[0m\u001b[0;34m\u001b[0m\u001b[0;34m\u001b[0m\u001b[0m\n",
      "\u001b[0;31mKeyboardInterrupt\u001b[0m: "
     ]
    }
   ],
   "source": [
    "graph.run(\"MATCH path = (start:Category{title:'Machine_learning'})-[*]-(end:Category{title:'Court_titles'}) RETURN path LIMIT 3\").data()"
   ]
  },
  {
   "cell_type": "code",
   "execution_count": null,
   "metadata": {},
   "outputs": [],
   "source": []
  },
  {
   "cell_type": "code",
   "execution_count": 21,
   "metadata": {},
   "outputs": [],
   "source": [
    "all_nodes = []\n",
    "all_relations = [] #child parent\n",
    "def buildGraph(root, path):\n",
    "    path = path + \"/\" + root\n",
    "    print(\"Current Path: \" + path)\n",
    "    if(not categoryExist(root)):\n",
    "        print(\"Category DNE\")\n",
    "        return\n",
    "    #add the node\n",
    "    all_nodes.append(root)\n",
    "    \n",
    "    #get all subcategories\n",
    "    sub_cat = getAllSubCat(root)\n",
    "    if(len(sub_cat) == 0): #base case\n",
    "        return\n",
    "    \n",
    "    #add all the relationships\n",
    "    for item in sub_cat:\n",
    "        all_relations.append(item + \" \" + root)\n",
    "   \n",
    "    #recurse on all sub nodes\n",
    "    for item in sub_cat:\n",
    "        buildGraph(item, path)\n"
   ]
  },
  {
   "cell_type": "code",
   "execution_count": 22,
   "metadata": {},
   "outputs": [
    {
     "name": "stdout",
     "output_type": "stream",
     "text": [
      "Current Path: /Machine_learning\n",
      "Current Path: /Machine_learning/Artificial_neural_networks\n",
      "Current Path: /Machine_learning/Artificial_neural_networks/Neural_network_software\n",
      "Current Path: /Machine_learning/Artificial_neural_networks/Deep_learning\n",
      "Current Path: /Machine_learning/Applied_machine_learning\n",
      "Current Path: /Machine_learning/Applied_machine_learning/AlphaGo\n",
      "Current Path: /Machine_learning/Unsupervised_learning\n",
      "Current Path: /Machine_learning/Structured_prediction\n",
      "Current Path: /Machine_learning/Structured_prediction/Graphical_models\n",
      "Current Path: /Machine_learning/Structured_prediction/Graphical_models/Bayesian_networks\n",
      "Current Path: /Machine_learning/Structured_prediction/Graphical_models/Causal_inference\n",
      "Current Path: /Machine_learning/Structured_prediction/Graphical_models/Markov_networks\n",
      "Current Path: /Machine_learning/Loss_functions\n",
      "Current Path: /Machine_learning/Support_vector_machines\n",
      "Current Path: /Machine_learning/Latent_variable_models\n",
      "Current Path: /Machine_learning/Latent_variable_models/Structural_equation_models\n",
      "Current Path: /Machine_learning/Latent_variable_models/Factor_analysis\n",
      "Current Path: /Machine_learning/Cluster_analysis\n",
      "Current Path: /Machine_learning/Cluster_analysis/Equivalence_classes\n",
      "Category DNE\n",
      "Current Path: /Machine_learning/Cluster_analysis/Clustering_criteria\n",
      "Current Path: /Machine_learning/Cluster_analysis/Cluster_analysis_algorithms\n",
      "Current Path: /Machine_learning/Signal_processing_conferences\n",
      "Current Path: /Machine_learning/Artificial_intelligence_conferences\n",
      "Current Path: /Machine_learning/Data_mining_and_machine_learning_software\n",
      "Current Path: /Machine_learning/Data_mining_and_machine_learning_software/Social_network_analysis_software\n",
      "Current Path: /Machine_learning/Machine_learning_algorithms\n",
      "Current Path: /Machine_learning/Machine_learning_algorithms/Genetic_algorithms\n",
      "Current Path: /Machine_learning/Machine_learning_algorithms/Genetic_algorithms/Artificial_immune_systems\n",
      "Current Path: /Machine_learning/Machine_learning_algorithms/Genetic_algorithms/Gene_expression_programming\n",
      "Current Path: /Machine_learning/Bayesian_networks\n",
      "Current Path: /Machine_learning/Machine_learning_portal\n",
      "Category DNE\n",
      "Current Path: /Machine_learning/Statistical_natural_language_processing\n",
      "Current Path: /Machine_learning/Statistical_natural_language_processing/Language_modeling\n",
      "Current Path: /Machine_learning/Markov_models\n",
      "Current Path: /Machine_learning/Markov_models/Hidden_Markov_models\n",
      "Current Path: /Machine_learning/Markov_models/Markov_networks\n",
      "Current Path: /Machine_learning/Evolutionary_algorithms\n",
      "Current Path: /Machine_learning/Evolutionary_algorithms/Genetic_programming\n",
      "Current Path: /Machine_learning/Evolutionary_algorithms/Genetic_algorithms\n",
      "Current Path: /Machine_learning/Evolutionary_algorithms/Genetic_algorithms/Artificial_immune_systems\n",
      "Current Path: /Machine_learning/Evolutionary_algorithms/Genetic_algorithms/Gene_expression_programming\n",
      "Current Path: /Machine_learning/Evolutionary_algorithms/Gene_expression_programming\n",
      "Current Path: /Machine_learning/Evolutionary_algorithms/Nature-inspired_metaheuristics\n",
      "Current Path: /Machine_learning/Genetic_programming\n",
      "Current Path: /Machine_learning/Datasets_in_machine_learning\n",
      "Current Path: /Machine_learning/Datasets_in_machine_learning/Datasets_in_computer_vision\n",
      "Current Path: /Machine_learning/Dimension_reduction\n",
      "Current Path: /Machine_learning/Dimension_reduction/Factor_analysis\n",
      "Current Path: /Machine_learning/Machine_learning_researchers\n",
      "Current Path: /Machine_learning/Supervised_learning\n",
      "Current Path: /Machine_learning/Semisupervised_learning\n",
      "Current Path: /Machine_learning/Computational_learning_theory\n",
      "Current Path: /Machine_learning/Kernel_methods_for_machine_learning\n",
      "Current Path: /Machine_learning/Kernel_methods_for_machine_learning/Support_vector_machines\n",
      "Current Path: /Machine_learning/Learning_in_computer_vision\n",
      "Current Path: /Machine_learning/Inductive_logic_programming\n",
      "Current Path: /Machine_learning/Log-linear_models\n",
      "Current Path: /Machine_learning/Classification_algorithms\n",
      "Current Path: /Machine_learning/Classification_algorithms/Ensemble_learning\n",
      "Current Path: /Machine_learning/Classification_algorithms/Artificial_neural_networks\n",
      "Current Path: /Machine_learning/Classification_algorithms/Artificial_neural_networks/Neural_network_software\n",
      "Current Path: /Machine_learning/Classification_algorithms/Artificial_neural_networks/Deep_learning\n",
      "Current Path: /Machine_learning/Classification_algorithms/Decision_trees\n",
      "Current Path: /Machine_learning/Machine_learning_task\n",
      "Current Path: /Machine_learning/Ensemble_learning\n"
     ]
    }
   ],
   "source": [
    "buildGraph(\"Machine_learning\", \"\")"
   ]
  },
  {
   "cell_type": "code",
   "execution_count": 28,
   "metadata": {},
   "outputs": [
    {
     "data": {
      "text/plain": [
       "['Machine_learning',\n",
       " 'Artificial_neural_networks',\n",
       " 'Neural_network_software',\n",
       " 'Deep_learning',\n",
       " 'Applied_machine_learning',\n",
       " 'AlphaGo',\n",
       " 'Unsupervised_learning',\n",
       " 'Structured_prediction',\n",
       " 'Graphical_models',\n",
       " 'Bayesian_networks',\n",
       " 'Causal_inference',\n",
       " 'Markov_networks',\n",
       " 'Loss_functions',\n",
       " 'Support_vector_machines',\n",
       " 'Latent_variable_models',\n",
       " 'Structural_equation_models',\n",
       " 'Factor_analysis',\n",
       " 'Cluster_analysis',\n",
       " 'Clustering_criteria',\n",
       " 'Cluster_analysis_algorithms',\n",
       " 'Signal_processing_conferences',\n",
       " 'Artificial_intelligence_conferences',\n",
       " 'Data_mining_and_machine_learning_software',\n",
       " 'Social_network_analysis_software',\n",
       " 'Machine_learning_algorithms',\n",
       " 'Genetic_algorithms',\n",
       " 'Artificial_immune_systems',\n",
       " 'Gene_expression_programming',\n",
       " 'Bayesian_networks',\n",
       " 'Statistical_natural_language_processing',\n",
       " 'Language_modeling',\n",
       " 'Markov_models',\n",
       " 'Hidden_Markov_models',\n",
       " 'Markov_networks',\n",
       " 'Evolutionary_algorithms',\n",
       " 'Genetic_programming',\n",
       " 'Genetic_algorithms',\n",
       " 'Artificial_immune_systems',\n",
       " 'Gene_expression_programming',\n",
       " 'Gene_expression_programming',\n",
       " 'Nature-inspired_metaheuristics',\n",
       " 'Genetic_programming',\n",
       " 'Datasets_in_machine_learning',\n",
       " 'Datasets_in_computer_vision',\n",
       " 'Dimension_reduction',\n",
       " 'Factor_analysis',\n",
       " 'Machine_learning_researchers',\n",
       " 'Supervised_learning',\n",
       " 'Semisupervised_learning',\n",
       " 'Computational_learning_theory',\n",
       " 'Kernel_methods_for_machine_learning',\n",
       " 'Support_vector_machines',\n",
       " 'Learning_in_computer_vision',\n",
       " 'Inductive_logic_programming',\n",
       " 'Log-linear_models',\n",
       " 'Classification_algorithms',\n",
       " 'Ensemble_learning',\n",
       " 'Artificial_neural_networks',\n",
       " 'Neural_network_software',\n",
       " 'Deep_learning',\n",
       " 'Decision_trees',\n",
       " 'Machine_learning_task',\n",
       " 'Ensemble_learning']"
      ]
     },
     "execution_count": 28,
     "metadata": {},
     "output_type": "execute_result"
    }
   ],
   "source": [
    "all_nodes"
   ]
  },
  {
   "cell_type": "code",
   "execution_count": 27,
   "metadata": {},
   "outputs": [
    {
     "data": {
      "text/plain": [
       "['Artificial_neural_networks Machine_learning',\n",
       " 'Applied_machine_learning Machine_learning',\n",
       " 'Unsupervised_learning Machine_learning',\n",
       " 'Structured_prediction Machine_learning',\n",
       " 'Loss_functions Machine_learning',\n",
       " 'Support_vector_machines Machine_learning',\n",
       " 'Latent_variable_models Machine_learning',\n",
       " 'Cluster_analysis Machine_learning',\n",
       " 'Signal_processing_conferences Machine_learning',\n",
       " 'Artificial_intelligence_conferences Machine_learning',\n",
       " 'Data_mining_and_machine_learning_software Machine_learning',\n",
       " 'Machine_learning_algorithms Machine_learning',\n",
       " 'Bayesian_networks Machine_learning',\n",
       " 'Machine_learning_portal Machine_learning',\n",
       " 'Statistical_natural_language_processing Machine_learning',\n",
       " 'Markov_models Machine_learning',\n",
       " 'Evolutionary_algorithms Machine_learning',\n",
       " 'Genetic_programming Machine_learning',\n",
       " 'Datasets_in_machine_learning Machine_learning',\n",
       " 'Dimension_reduction Machine_learning',\n",
       " 'Machine_learning_researchers Machine_learning',\n",
       " 'Supervised_learning Machine_learning',\n",
       " 'Semisupervised_learning Machine_learning',\n",
       " 'Computational_learning_theory Machine_learning',\n",
       " 'Kernel_methods_for_machine_learning Machine_learning',\n",
       " 'Learning_in_computer_vision Machine_learning',\n",
       " 'Inductive_logic_programming Machine_learning',\n",
       " 'Log-linear_models Machine_learning',\n",
       " 'Classification_algorithms Machine_learning',\n",
       " 'Machine_learning_task Machine_learning',\n",
       " 'Ensemble_learning Machine_learning',\n",
       " 'Neural_network_software Artificial_neural_networks',\n",
       " 'Deep_learning Artificial_neural_networks',\n",
       " 'AlphaGo Applied_machine_learning',\n",
       " 'Graphical_models Structured_prediction',\n",
       " 'Bayesian_networks Graphical_models',\n",
       " 'Causal_inference Graphical_models',\n",
       " 'Markov_networks Graphical_models',\n",
       " 'Structural_equation_models Latent_variable_models',\n",
       " 'Factor_analysis Latent_variable_models',\n",
       " 'Equivalence_classes Cluster_analysis',\n",
       " 'Clustering_criteria Cluster_analysis',\n",
       " 'Cluster_analysis_algorithms Cluster_analysis',\n",
       " 'Social_network_analysis_software Data_mining_and_machine_learning_software',\n",
       " 'Genetic_algorithms Machine_learning_algorithms',\n",
       " 'Artificial_immune_systems Genetic_algorithms',\n",
       " 'Gene_expression_programming Genetic_algorithms',\n",
       " 'Language_modeling Statistical_natural_language_processing',\n",
       " 'Hidden_Markov_models Markov_models',\n",
       " 'Markov_networks Markov_models',\n",
       " 'Genetic_programming Evolutionary_algorithms',\n",
       " 'Genetic_algorithms Evolutionary_algorithms',\n",
       " 'Gene_expression_programming Evolutionary_algorithms',\n",
       " 'Nature-inspired_metaheuristics Evolutionary_algorithms',\n",
       " 'Artificial_immune_systems Genetic_algorithms',\n",
       " 'Gene_expression_programming Genetic_algorithms',\n",
       " 'Datasets_in_computer_vision Datasets_in_machine_learning',\n",
       " 'Factor_analysis Dimension_reduction',\n",
       " 'Support_vector_machines Kernel_methods_for_machine_learning',\n",
       " 'Ensemble_learning Classification_algorithms',\n",
       " 'Artificial_neural_networks Classification_algorithms',\n",
       " 'Decision_trees Classification_algorithms',\n",
       " 'Neural_network_software Artificial_neural_networks',\n",
       " 'Deep_learning Artificial_neural_networks']"
      ]
     },
     "execution_count": 27,
     "metadata": {},
     "output_type": "execute_result"
    }
   ],
   "source": [
    "all_relations"
   ]
  },
  {
   "cell_type": "code",
   "execution_count": 29,
   "metadata": {},
   "outputs": [],
   "source": [
    "#save graph to files\n",
    "with open('nodes.txt', 'w') as f:\n",
    "    for item in all_nodes:\n",
    "        f.write(\"%s\\n\" % item)\n",
    "\n",
    "with open('relations.txt', 'w') as f:\n",
    "    for item in all_relations:\n",
    "        f.write(\"%s\\n\" % item)        "
   ]
  },
  {
   "cell_type": "code",
   "execution_count": null,
   "metadata": {},
   "outputs": [],
   "source": []
  }
 ],
 "metadata": {
  "kernelspec": {
   "display_name": "Python 3",
   "language": "python",
   "name": "python3"
  },
  "language_info": {
   "codemirror_mode": {
    "name": "ipython",
    "version": 3
   },
   "file_extension": ".py",
   "mimetype": "text/x-python",
   "name": "python",
   "nbconvert_exporter": "python",
   "pygments_lexer": "ipython3",
   "version": "3.7.3"
  }
 },
 "nbformat": 4,
 "nbformat_minor": 2
}
