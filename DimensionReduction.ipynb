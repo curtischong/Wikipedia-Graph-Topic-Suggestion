{
 "cells": [
  {
   "cell_type": "code",
   "execution_count": 4,
   "metadata": {},
   "outputs": [],
   "source": [
    "from sklearn.manifold import TSNE\n",
    "import pandas as pd"
   ]
  },
  {
   "cell_type": "code",
   "execution_count": 11,
   "metadata": {},
   "outputs": [],
   "source": [
    "def tsne_reduce(data):\n",
    "    data_table = pd.read_hdf(data, 'df')\n",
    "    tokens = data_table.values[:, :-1]\n",
    "    tsne_model = TSNE(perplexity=25, n_components=2, init='pca', n_iter=2500, random_state=23)\n",
    "    new_values = tsne_model.fit_transform(tokens)\n",
    "    return new_values"
   ]
  },
  {
   "cell_type": "code",
   "execution_count": 12,
   "metadata": {},
   "outputs": [
    {
     "data": {
      "text/plain": [
       "array([[   85.03349 ,  -286.47165 ],\n",
       "       [ -383.4243  ,  -206.35272 ],\n",
       "       [ 1893.095   ,  1361.8301  ],\n",
       "       [  492.88623 ,   128.69022 ],\n",
       "       [  919.0926  ,   112.145645],\n",
       "       [-1047.288   ,  -945.4576  ],\n",
       "       [  345.286   ,  1186.583   ],\n",
       "       [-1145.7317  ,   668.29236 ],\n",
       "       [-2366.9778  ,  -101.10059 ],\n",
       "       [ -690.11237 ,   253.94354 ],\n",
       "       [ -759.3005  , -2188.4841  ],\n",
       "       [ -638.5648  , -1878.0338  ],\n",
       "       [-1259.7059  , -1726.4071  ],\n",
       "       [ -802.36884 ,  -404.35785 ],\n",
       "       [-1811.0802  , -1136.8158  ],\n",
       "       [ 2462.9377  ,  -799.382   ],\n",
       "       [-1918.0319  ,   926.12225 ],\n",
       "       [  584.18854 ,   659.4506  ],\n",
       "       [ 2062.9875  ,  -237.97627 ],\n",
       "       [ 1505.2473  ,  -637.0584  ],\n",
       "       [-1367.7003  ,  1570.9666  ],\n",
       "       [ 1306.8013  ,   832.6828  ],\n",
       "       [ 1306.8013  ,   832.6828  ],\n",
       "       [-1860.9258  ,  -269.69778 ],\n",
       "       [-1425.5862  ,  -265.05414 ],\n",
       "       [ 2038.6873  ,   549.99115 ],\n",
       "       [-1502.4049  ,   115.29595 ],\n",
       "       [  118.20404 , -2278.9863  ],\n",
       "       [  -19.313103, -1546.7279  ],\n",
       "       [ -768.4328  ,  1689.707   ],\n",
       "       [ -561.3982  ,  1117.1284  ],\n",
       "       [ -561.3982  ,  1117.1284  ],\n",
       "       [ -561.3982  ,  1117.1284  ],\n",
       "       [ 1305.1455  ,  -266.05917 ],\n",
       "       [ 1146.3335  , -2075.2437  ],\n",
       "       [  -56.55791 ,   727.7588  ],\n",
       "       [  -96.792114,    89.595406],\n",
       "       [  -96.792114,    89.595406],\n",
       "       [  980.7742  ,  2067.0938  ],\n",
       "       [  980.7742  ,  2067.0938  ],\n",
       "       [  980.7742  ,  2067.0938  ],\n",
       "       [  -87.441635,  2132.8572  ],\n",
       "       [  173.97043 ,  -955.3977  ],\n",
       "       [ 2062.9875  ,  -237.97627 ],\n",
       "       [ -433.19162 , -1042.3732  ],\n",
       "       [  900.7148  ,  -983.681   ],\n",
       "       [  897.59863 , -1523.4738  ],\n",
       "       [  897.59863 , -1523.4738  ],\n",
       "       [  658.28503 ,  1406.1603  ],\n",
       "       [ 1823.2046  , -1387.9868  ],\n",
       "       [ -201.35304 ,  -640.95776 ],\n",
       "       [  555.0247  ,  -446.70764 ]], dtype=float32)"
      ]
     },
     "execution_count": 12,
     "metadata": {},
     "output_type": "execute_result"
    }
   ],
   "source": [
    "tsne_reduce(\"data/ML_embeddings.h5\")"
   ]
  },
  {
   "cell_type": "code",
   "execution_count": null,
   "metadata": {},
   "outputs": [],
   "source": []
  }
 ],
 "metadata": {
  "kernelspec": {
   "display_name": "Python 3",
   "language": "python",
   "name": "python3"
  },
  "language_info": {
   "codemirror_mode": {
    "name": "ipython",
    "version": 3
   },
   "file_extension": ".py",
   "mimetype": "text/x-python",
   "name": "python",
   "nbconvert_exporter": "python",
   "pygments_lexer": "ipython3",
   "version": "3.7.3"
  }
 },
 "nbformat": 4,
 "nbformat_minor": 2
}
